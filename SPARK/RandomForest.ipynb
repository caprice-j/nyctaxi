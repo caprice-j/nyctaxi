{
 "cells": [
  {
   "cell_type": "code",
   "execution_count": 12,
   "metadata": {
    "collapsed": false
   },
   "outputs": [],
   "source": [
    "import sys\n",
    "import itertools\n",
    "from math import sqrt\n",
    "from operator import add\n",
    "from os.path import join, isfile, dirname\n",
    "import math\n",
    "from pyspark import SparkConf, SparkContext\n",
    "from pyspark.mllib.recommendation import ALS\n",
    "from pyspark.mllib.linalg import Vectors\n",
    "from pyspark.mllib.linalg import SparseVector\n",
    "from pyspark.mllib.clustering import LDA, LDAModel\n",
    "from sklearn.neighbors import NearestNeighbors\n",
    "from pyspark.mllib.tree import RandomForest, RandomForestModel\n",
    "from pyspark.mllib.util import MLUtils\n",
    "from pyspark.mllib.regression import LabeledPoint\n",
    "import textwrap\n",
    "from datetime import date, datetime"
   ]
  },
  {
   "cell_type": "code",
   "execution_count": 85,
   "metadata": {
    "collapsed": false
   },
   "outputs": [
    {
     "data": {
      "text/plain": [
       "[u'0 VendorID',\n",
       " u'1 tpep_pickup_datetime',\n",
       " u'2 tpep_dropoff_datetime',\n",
       " u'3 passenger_count',\n",
       " u'4 trip_distance',\n",
       " u'5 pickup_longitude',\n",
       " u'6 pickup_latitude',\n",
       " u'7 RatecodeID',\n",
       " u'8 store_and_fwd_flag',\n",
       " u'9 dropoff_longitude',\n",
       " u'10 dropoff_latitude',\n",
       " u'11 payment_type',\n",
       " u'12 fare_amount',\n",
       " u'13 extra',\n",
       " u'14 mta_tax',\n",
       " u'15 tip_amount',\n",
       " u'16 tolls_amount',\n",
       " u'17 improvement_surcharge',\n",
       " u'18 total_amount']"
      ]
     },
     "execution_count": 85,
     "metadata": {},
     "output_type": "execute_result"
    }
   ],
   "source": [
    "f = sc.textFile(\"file:///bgdt/yellow.50000.csv\") # file:// for local files (default hdfs)\n",
    "header = f.first()\n",
    "[ str(i) + ' ' + x for i, x in enumerate(header.split(\",\")) ]"
   ]
  },
  {
   "cell_type": "code",
   "execution_count": 86,
   "metadata": {
    "collapsed": false
   },
   "outputs": [
    {
     "data": {
      "text/plain": [
       "[{'da': 40.7442512512207,\n",
       "  'do': -73.99568939208984,\n",
       "  'dst': 2.43,\n",
       "  'ex': 0.5,\n",
       "  'fare': 12.0,\n",
       "  'isHighHpay': 1,\n",
       "  'isWeekend': 0,\n",
       "  'len': 15,\n",
       "  'pa': 40.7635383605957,\n",
       "  'ph': 0,\n",
       "  'po': -73.96932983398438,\n",
       "  'toll': 0.0}]"
      ]
     },
     "execution_count": 86,
     "metadata": {},
     "output_type": "execute_result"
    }
   ],
   "source": [
    "# def hour2ts(h):\n",
    "#     if h in {}:\n",
    "        \n",
    "#     elif\n",
    "\n",
    "dtf = \"%Y-%m-%d %H:%M:%S\"  # date format\n",
    "\n",
    "univ = f.filter(lambda x: x != header)\\\n",
    ".map(lambda l: l.split(\",\"))\\\n",
    ".map(lambda c:\n",
    "     {        'pt': c[ 1],\n",
    "       'isWeekend': int(datetime.strptime(c[1],dtf).isoweekday()>5),\n",
    "                    # isoweekday() returns Monday as 1, Sundey as 7\n",
    "              'ph': datetime.strptime(c[1],dtf).hour//2,\n",
    "              'dt': c[ 2],\n",
    "             'len': (datetime.strptime(c[2],dtf) -\n",
    "                     datetime.strptime(c[1],dtf)).seconds // 60,\n",
    "                    # actual trip duration in minutes\n",
    "             'dst': float(c[ 4]),\n",
    "              'po': float(c[ 5]),\n",
    "              'pa': float(c[ 6]),\n",
    "              'do': float(c[ 9]),\n",
    "              'da': float(c[10]),\n",
    "               '$': c[11], # payment type: 1 is credit card (tip recorded)\n",
    "            'fare': float(c[12]),\n",
    "              'ex': float(c[13]),\n",
    "             'tip': float(c[15]),\n",
    "            'toll': float(c[16]),\n",
    "      })\\\n",
    ".filter(lambda x: x['$'] == '1' )\\\n",
    ".filter(lambda x: x['len'] >= 2 )\\\n",
    ".map(lambda c:\n",
    "     { 'isWeekend': c['isWeekend'],\n",
    "              'ph': c['ph'],\n",
    "             'len': c['len'],\n",
    "      'isHighHpay': int((c['tip']*60/c['len'])>=12),\n",
    "             'dst': c['dst'],\n",
    "              'po': c['po'],\n",
    "              'pa': c['pa'],\n",
    "              'do': c['do'],\n",
    "              'da': c['da'],\n",
    "            'fare': c['fare'],\n",
    "              'ex': c['ex'],\n",
    "            'toll': c['toll']\n",
    "      })\\\n",
    ".cache()\n",
    "\n",
    "univ.take(1)"
   ]
  },
  {
   "cell_type": "code",
   "execution_count": 87,
   "metadata": {
    "collapsed": false
   },
   "outputs": [
    {
     "name": "stdout",
     "output_type": "stream",
     "text": [
      "27679 credit card trips\n"
     ]
    }
   ],
   "source": [
    "nrCards = univ.count()\n",
    "print(\"%d credit card trips\" % (nrCards) )"
   ]
  },
  {
   "cell_type": "code",
   "execution_count": 121,
   "metadata": {
    "collapsed": false
   },
   "outputs": [
    {
     "name": "stdout",
     "output_type": "stream",
     "text": [
      "use finished\n"
     ]
    },
    {
     "data": {
      "text/plain": [
       "[LabeledPoint(1.0, [0.0,-73.969329834,40.7635383606,0.0,0.5,2.43,0.0,12.0,15.0,-73.9956893921,40.7442512512])]"
      ]
     },
     "execution_count": 121,
     "metadata": {},
     "output_type": "execute_result"
    }
   ],
   "source": [
    "#preped = univ.map(lambda l: (l['dst'], l['tip']) )\n",
    "moment = 'finished'\n",
    "\n",
    "if moment == 'before': \n",
    "    print(\"use before\")\n",
    "    preped = univ.map(lambda l:\n",
    "                      LabeledPoint(l['isHighHpay'],\n",
    "                                   [l['isWeekend'],\n",
    "                                    l['po'],\n",
    "                                    l['pa'],\n",
    "                                    l['ph'],\n",
    "                                    l['ex']]))\n",
    "elif moment == 'finished':\n",
    "    print(\"use finished\")\n",
    "    preped = univ.map(lambda l:\n",
    "                      LabeledPoint(l['isHighHpay'],\n",
    "                                   [l['isWeekend'],\n",
    "                                    l['po'],\n",
    "                                    l['pa'],\n",
    "                                    l['ph'],\n",
    "                                    l['ex'],\n",
    "                                    l['dst'],\n",
    "                                    l['toll'],\n",
    "                                    l['fare'],\n",
    "                                    l['len'],\n",
    "                                    l['do'],\n",
    "                                    l['da']\n",
    "                                   ]))\n",
    "else:\n",
    "    print(\"not yet\")\n",
    "preped.take(1)"
   ]
  },
  {
   "cell_type": "code",
   "execution_count": 122,
   "metadata": {
    "collapsed": false
   },
   "outputs": [
    {
     "name": "stdout",
     "output_type": "stream",
     "text": [
      "('  training RDD:', [LabeledPoint(1.0, [0.0,-74.0043029785,40.7422409058,0.0,0.5,3.7,0.0,14.0,14.0,-74.0073623657,40.7069358826])])\n",
      "('validation RDD:', [DenseVector([0.0, -73.9821, 40.7747, 0.0, 0.5, 1.7, 0.0, 7.0, 4.0, -73.9709, 40.7967])])\n"
     ]
    }
   ],
   "source": [
    "trRDD, vaRDD, teRDD = preped.randomSplit([6,2,2], seed=0L)\n",
    "\n",
    "print(\"  training RDD:\", trRDD.take(1))\n",
    "print(\"validation RDD:\", vaRDD.map(lambda x: x.features ).take(1))"
   ]
  },
  {
   "cell_type": "code",
   "execution_count": 123,
   "metadata": {
    "collapsed": false
   },
   "outputs": [],
   "source": [
    "model = RandomForest.trainClassifier(trRDD, numClasses=2,\n",
    "                                     categoricalFeaturesInfo = {},\n",
    "                             numTrees=50, featureSubsetStrategy=\"sqrt\",\n",
    "                            impurity=\"gini\", maxDepth=4, maxBins=32, seed = 1)\n",
    "# gini is faster"
   ]
  },
  {
   "cell_type": "code",
   "execution_count": 124,
   "metadata": {
    "collapsed": false
   },
   "outputs": [
    {
     "data": {
      "text/plain": [
       "TreeEnsembleModel classifier with 50 trees"
      ]
     },
     "execution_count": 124,
     "metadata": {},
     "output_type": "execute_result"
    }
   ],
   "source": [
    "model"
   ]
  },
  {
   "cell_type": "code",
   "execution_count": 125,
   "metadata": {
    "collapsed": true
   },
   "outputs": [],
   "source": [
    "preds = model.predict(vaRDD.map(lambda x: x.features ))"
   ]
  },
  {
   "cell_type": "code",
   "execution_count": 126,
   "metadata": {
    "collapsed": false
   },
   "outputs": [],
   "source": [
    "labelsAndPredictions = vaRDD.map(lambda lp: lp.label).zip(preds)\n"
   ]
  },
  {
   "cell_type": "code",
   "execution_count": 127,
   "metadata": {
    "collapsed": false
   },
   "outputs": [
    {
     "name": "stdout",
     "output_type": "stream",
     "text": [
      "Test Accuracy = 75.432530 percent\n"
     ]
    }
   ],
   "source": [
    "testErr = labelsAndPredictions.filter(lambda (v, p): v != p).count() / float(vaRDD.count())\n",
    "print('Test Accuracy = %f percent' % (100-round(testErr,7)*100))\n",
    "# print('Learned classification forest model:')\n",
    "# print(model.toDebugString()) # messy"
   ]
  },
  {
   "cell_type": "code",
   "execution_count": 128,
   "metadata": {
    "collapsed": false
   },
   "outputs": [
    {
     "name": "stdout",
     "output_type": "stream",
     "text": [
      "Baseline : 0.690585     \n",
      "Actual  0:      1699    1:      3792     \n",
      "Predict 0:      1000    1:      4491     \n"
     ]
    }
   ],
   "source": [
    "nActuNotHigh = labelsAndPredictions.filter(lambda lp: lp[0] == 0 ).count()\n",
    "nActuHigh    = labelsAndPredictions.filter(lambda lp: lp[0] == 1 ).count()\n",
    "nPredNotHigh = labelsAndPredictions.filter(lambda lp: lp[1] == 0 ).count()\n",
    "nPredHigh    = labelsAndPredictions.filter(lambda lp: lp[1] == 1 ).count()\n",
    "\n",
    "print(\"Baseline : %f     \" % (float(max(nActuNotHigh,nActuHigh)) / float(nActuNotHigh+nActuHigh)))\n",
    "print(\"Actual  0: %9d    1: %9d     \" % (nActuNotHigh, nActuHigh) )\n",
    "print(\"Predict 0: %9d    1: %9d     \" % (nPredNotHigh, nPredHigh) )"
   ]
  },
  {
   "cell_type": "code",
   "execution_count": null,
   "metadata": {
    "collapsed": true
   },
   "outputs": [],
   "source": [
    "# Note: for unfiltered data,\n",
    "# 69 -before-> 72% -finish-> 75%\n",
    "#\n",
    "#"
   ]
  }
 ],
 "metadata": {
  "kernelspec": {
   "display_name": "Python 2",
   "language": "python",
   "name": "python2"
  },
  "language_info": {
   "codemirror_mode": {
    "name": "ipython",
    "version": 2
   },
   "file_extension": ".py",
   "mimetype": "text/x-python",
   "name": "python",
   "nbconvert_exporter": "python",
   "pygments_lexer": "ipython2",
   "version": "2.7.12"
  }
 },
 "nbformat": 4,
 "nbformat_minor": 2
}
